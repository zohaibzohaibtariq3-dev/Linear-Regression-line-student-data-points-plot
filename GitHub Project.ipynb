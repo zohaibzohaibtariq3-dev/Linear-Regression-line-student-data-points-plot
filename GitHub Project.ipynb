{
 "cells": [
  {
   "cell_type": "code",
   "execution_count": null,
   "id": "f97dd520",
   "metadata": {},
   "outputs": [],
   "source": [
    "# ------------------ IMPORTS ------------------\n",
    "import numpy as np\n",
    "import pandas as pd\n",
    "import matplotlib.pyplot as plt\n",
    "from sklearn.linear_model import LinearRegression\n",
    "\n",
    "# ------------------ DATA ------------------\n",
    "data = {\"Hours\": [1,2,3,4,5,6,7], \"Marks\": [40,50,60,65,70,75,80]}\n",
    "df = pd.DataFrame(data)\n",
    "\n",
    "X = df[[\"Hours\"]]   # Features\n",
    "y = df[\"Marks\"]     # Target\n",
    "\n",
    "# ------------------ MODEL TRAINING ------------------\n",
    "model = LinearRegression()\n",
    "model.fit(X, y)\n",
    "\n",
    "# ------------------ PREDICTION ------------------\n",
    "hours = pd.DataFrame({\"Hours\": [5]})\n",
    "pred = model.predict(hours)\n",
    "\n",
    "print(f\"Predicted Marks for {hours['Hours'][0]} hours study = {pred[0]:.2f}\")\n",
    "\n",
    "# ------------------ GRAPH ------------------\n",
    "plt.scatter(X, y, color=\"blue\", label=\"Actual Marks\")        # data points\n",
    "plt.plot(X, model.predict(X), color=\"red\", label=\"Regression Line\")  # line\n",
    "\n",
    "# Highlight predicted point\n",
    "plt.scatter(hours, pred, color=\"green\", s=100, label=f\"Predicted ({pred[0]:.1f})\")\n",
    "\n",
    "plt.title(\"Hours Studied vs Marks\")\n",
    "plt.xlabel(\"Hours Studied\")\n",
    "plt.ylabel(\"Marks\")\n",
    "plt.legend()\n",
    "plt.grid(True)\n",
    "plt.show()\n"
   ]
  }
 ],
 "metadata": {
  "kernelspec": {
   "display_name": "Python (myenv)",
   "language": "python",
   "name": "myenv"
  },
  "language_info": {
   "codemirror_mode": {
    "name": "ipython",
    "version": 3
   },
   "file_extension": ".py",
   "mimetype": "text/x-python",
   "name": "python",
   "nbconvert_exporter": "python",
   "pygments_lexer": "ipython3",
   "version": "3.12.7"
  }
 },
 "nbformat": 4,
 "nbformat_minor": 5
}
